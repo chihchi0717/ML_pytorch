{
 "cells": [
  {
   "cell_type": "code",
   "execution_count": 14,
   "metadata": {},
   "outputs": [],
   "source": [
    "import torch\n",
    "import numpy as np"
   ]
  },
  {
   "cell_type": "code",
   "execution_count": 15,
   "metadata": {},
   "outputs": [
    {
     "name": "stdout",
     "output_type": "stream",
     "text": [
      "numpy array: [[0 1 2]\n",
      " [3 4 5]]\n",
      "torch tensor: tensor([[0, 1, 2],\n",
      "        [3, 4, 5]], dtype=torch.int32)\n",
      "tensor to array: [[0 1 2]\n",
      " [3 4 5]]\n"
     ]
    }
   ],
   "source": [
    "np_data = np.arange(6).reshape((2, 3))\n",
    "torch_data = torch.from_numpy(np_data)    #from type numpy to torch\n",
    "tensor2array = torch_data.numpy()\n",
    "print('numpy array:', np_data)          # [[0 1 2], [3 4 5]]\n",
    "print('torch tensor:', torch_data)     #  0  1  2 \\n 3  4  5    [torch.LongTensor of size 2x3]\n",
    "print('tensor to array:', tensor2array) # [[0 1 2], [3 4 5]]\n",
    "\n"
   ]
  },
  {
   "cell_type": "code",
   "execution_count": 16,
   "metadata": {},
   "outputs": [
    {
     "name": "stdout",
     "output_type": "stream",
     "text": [
      "\n",
      "abs \n",
      "numpy:  [1 2 1 2] \n",
      "torch:  tensor([1., 2., 1., 2.])\n",
      "\n",
      "sin \n",
      "numpy:  [-0.84147098 -0.90929743  0.84147098  0.90929743] \n",
      "torch:  tensor([-0.8415, -0.9093,  0.8415,  0.9093])\n",
      "\n",
      "mean \n",
      "numpy:  0.0 \n",
      "torch:  tensor(0.)\n"
     ]
    }
   ],
   "source": [
    "# abs 绝对值计算\n",
    "data = [-1, -2, 1, 2]\n",
    "tensor = torch.FloatTensor(data)  # 转换成32位浮点 tensor\n",
    "print(\n",
    "    '\\nabs',\n",
    "    '\\nnumpy: ', np.abs(data),          # [1 2 1 2]\n",
    "    '\\ntorch: ', torch.abs(tensor)      # [1 2 1 2]\n",
    ")\n",
    "\n",
    "# sin   三角函数 sin\n",
    "print(\n",
    "    '\\nsin',\n",
    "    '\\nnumpy: ', np.sin(data),      # [-0.84147098 -0.90929743  0.84147098  0.90929743]\n",
    "    '\\ntorch: ', torch.sin(tensor)  # [-0.8415 -0.9093  0.8415  0.9093]\n",
    ")\n",
    "\n",
    "# mean  均值\n",
    "print(\n",
    "    '\\nmean',\n",
    "    '\\nnumpy: ', np.mean(data),         # 0.0\n",
    "    '\\ntorch: ', torch.mean(tensor)  )   # 0.0\n",
    "    "
   ]
  },
  {
   "cell_type": "code",
   "execution_count": 17,
   "metadata": {},
   "outputs": [
    {
     "name": "stdout",
     "output_type": "stream",
     "text": [
      "\n",
      "matrix multiplication (matmul) \n",
      "numpy:  [[ 7 10]\n",
      " [15 22]] \n",
      "torch:  tensor([[ 7., 10.],\n",
      "        [15., 22.]])\n"
     ]
    }
   ],
   "source": [
    "# matrix multiplication 矩陣相乘\n",
    "data = [[1,2], [3,4]]\n",
    "tensor = torch.FloatTensor(data)  # 转换成32位浮点 tensor\n",
    "# correct method\n",
    "print(\n",
    "    '\\nmatrix multiplication (matmul)',\n",
    "    '\\nnumpy: ', np.matmul(data, data),     # [[7, 10], [15, 22]]\n",
    "    '\\ntorch: ', torch.mm(tensor, tensor)   # [[7, 10], [15, 22]]\n",
    ")"
   ]
  },
  {
   "cell_type": "code",
   "execution_count": 18,
   "metadata": {},
   "outputs": [],
   "source": [
    "def acc(pre,label):\n",
    "    a=0\n",
    "    num=len(label)\n",
    "    for i in range(num):\n",
    "        if pre[i][0]>torch.tensor(0.5):\n",
    "            k=0\n",
    "        else:\n",
    "            k=1\n",
    "        if k==label[i]:\n",
    "            a+=1\n",
    "    return a/num\n"
   ]
  },
  {
   "cell_type": "code",
   "execution_count": 22,
   "metadata": {},
   "outputs": [
    {
     "name": "stderr",
     "output_type": "stream",
     "text": [
      "C:\\Users\\cchih\\AppData\\Local\\Temp/ipykernel_19784/2675513819.py:31: UserWarning: Implicit dimension choice for softmax has been deprecated. Change the call to include dim=X as an argument.\n",
      "  x = F.softmax(self.pre(x))\n"
     ]
    },
    {
     "name": "stdout",
     "output_type": "stream",
     "text": [
      "train_accuracy:  81 %\n"
     ]
    }
   ],
   "source": [
    "import torch\n",
    "import torch.nn.functional as F\n",
    "import matplotlib.pyplot as plt\n",
    "import pandas as pd\n",
    "from sklearn import preprocessing\n",
    "import numpy as np\n",
    "train_data=pd.read_csv(\"train.csv\")   # 將cvs檔案以pandas開啟\n",
    "train_data['Age']=train_data['Age'].fillna(int(train_data['Age'].mean()))\n",
    "train_data['Fare']=train_data['Fare'].fillna(int(train_data['Fare'].mean()))\n",
    "lben=preprocessing.LabelEncoder() #將文字轉換成數字 \n",
    "train_data['Sex']=lben.fit_transform(train_data['Sex'])\n",
    "train_data['Embarked']=lben.fit_transform(train_data['Embarked'])\n",
    "x=pd.DataFrame([train_data['Pclass'],train_data['Sex'],train_data['Age'],train_data['SibSp'],train_data['Parch'],train_data['Fare'],train_data['Embarked']]).T\n",
    "\n",
    "x=np.array(x)\n",
    "x=torch.tensor(x,dtype=torch.float32)\n",
    "y=train_data['Survived']\n",
    "y=torch.tensor(np.array(y),dtype=torch.int64)\n",
    "\n",
    "\n",
    "class Net(torch.nn.Module):\n",
    "    def __init__(self, n_feature,  n_output):\n",
    "        super(Net, self).__init__()\n",
    "        self.pre = torch.nn.Sequential(\n",
    "            torch.nn.Linear(n_feature, 128)  ,\n",
    "            torch.nn.Linear(128,256),\n",
    "            torch.nn.Linear(256,512),\n",
    "            torch.nn.Linear(512, n_output)  ) \n",
    "\n",
    "    def forward(self, x):  \n",
    "        x = F.softmax(self.pre(x))    \n",
    "        return x\n",
    "\n",
    "net = Net(n_feature=7,n_output=2)     \n",
    "\n",
    "optimizer = torch.optim.SGD(net.parameters(), lr=0.01)\n",
    "loss_func = torch.nn.CrossEntropyLoss()  \n",
    "\n",
    "for t in range(20000):\n",
    "    prediction = net(x)  \n",
    "    #print(prediction)\n",
    "    loss = loss_func(prediction, y) \n",
    "    optimizer.zero_grad()   \n",
    "    loss.backward()         \n",
    "    optimizer.step()        \n",
    "\n",
    "print('train_accuracy: ',round(100*acc(prediction,y)),'%') "
   ]
  },
  {
   "cell_type": "code",
   "execution_count": null,
   "metadata": {},
   "outputs": [],
   "source": []
  }
 ],
 "metadata": {
  "kernelspec": {
   "display_name": "aienv",
   "language": "python",
   "name": "python3"
  },
  "language_info": {
   "codemirror_mode": {
    "name": "ipython",
    "version": 3
   },
   "file_extension": ".py",
   "mimetype": "text/x-python",
   "name": "python",
   "nbconvert_exporter": "python",
   "pygments_lexer": "ipython3",
   "version": "3.9.7"
  },
  "orig_nbformat": 4,
  "vscode": {
   "interpreter": {
    "hash": "ccb7a176047b0f1c19b6b721b6c73bb401b7c1a8b02d12ca5ed21b55b3d11164"
   }
  }
 },
 "nbformat": 4,
 "nbformat_minor": 2
}
